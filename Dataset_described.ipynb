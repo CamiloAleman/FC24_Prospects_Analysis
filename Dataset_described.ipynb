{
 "cells": [
  {
   "cell_type": "markdown",
   "id": "0acbe5eb-19b0-452b-88c2-eac43fe74eb9",
   "metadata": {},
   "source": [
    "Análisis de los futbolistas prospectos entre 2021 y 2024 basado en el dataset de los jugadores de FIFA\n",
    "\n",
    "Por medio de la plataforma sofifa.com, con un método llamado Web Scraping se logró recolectar un histórico detallado de los datos de jugadores de futbol a través del modo de juego \"Modo Carrera\" de la saga de videojuegos FIFA, desde la edición \"FIFA 15\" (correspondiente a datos de jugadores de la temporada 2014-15) hasta la edición \"EA SPORTS FC 24\" (correspondiente a datos de jugadores de la temporada 2023-24)\n",
    "\n",
    "Sofifa es una plataforma que actúa como la base de datos de los jugadores, con cada estadística completa acerca del jugador y su desempeño en el videojuego.\n",
    "\n",
    "A través del Web Scraping se almacenan:\n",
    "\n",
    "- Todos los jugadores, entrenadores y equipos disponibles en FIFA 15, 16, 17, 18, 19, 20, 21, 22, 23 y también en EA Sports FC 24.\n",
    "- Todas las actualizaciones de FIFA desde el 10 de septiembre de 2015 hasta el 22 de septiembre de 2023\n",
    "- 109 atributos para jugadores, 8 atributos para entrenadores y 54 atributos para equipos\n",
    "- URL de los jugadores, entrenadores y equipos eliminados\n",
    "- Posiciones de jugadores, con el rol en el club y en la selección\n",
    "- Atributos del jugador con estadísticas como ataque, habilidades, defensa, mentalidad, habilidades GK, etc.\n",
    "- Datos personales del jugador como nacionalidad, club, fecha de nacimiento, salario, etc.\n",
    "- Datos del equipo sobre sus entrenadores, su valor general y tácticas.\n",
    "\n",
    "en los siguientes CSV, tipo de datos de dato semi-estructurado:\n",
    "\n",
    "- female_coaches.csv\n",
    "- female_players.csv\n",
    "- female_teams.csv\n",
    "- male_coaches.csv\n",
    "- male_players.csv\n",
    "- male_teams.csv\n",
    "\n",
    "Dado que haremos un análisis orientado a los jugadores masculinos prospectos de las 4 entregas \n",
    "\"FIFA 21\"\n",
    "\"FIFA 22\"\n",
    "\"FIFA 23\"\n",
    "\"EA FC 24\"\n",
    "\n",
    "utilizaremos\n",
    "- male_players.csv"
   ]
  },
  {
   "cell_type": "code",
   "execution_count": 90,
   "id": "f1f5a079-e275-4834-a5d5-a33633552cd4",
   "metadata": {},
   "outputs": [],
   "source": [
    "import pandas as pd\n",
    "import numpy as np\n",
    "import matplotlib.pylab as plt\n",
    "import seaborn as sns\n",
    "from matplotlib.ticker import ScalarFormatter"
   ]
  },
  {
   "cell_type": "code",
   "execution_count": 4,
   "id": "fc903d43-1346-46c2-a379-cd16074db0ed",
   "metadata": {},
   "outputs": [],
   "source": [
    "#Url donde está publicado el dataset y de donde se consumirá\n",
    "url = 'https://raw.githubusercontent.com/CamiloAleman/FC24_Prospects_Analysis/refs/heads/main/data/male_players.csv'"
   ]
  },
  {
   "cell_type": "code",
   "execution_count": 5,
   "id": "5132011d-099b-490e-b02d-a13920d1dc28",
   "metadata": {},
   "outputs": [],
   "source": [
    "#Creación de dataframe\n",
    "main_df = pd.read_csv(url, low_memory=False)"
   ]
  },
  {
   "cell_type": "code",
   "execution_count": 6,
   "id": "8f8339df-7601-49ae-954c-42b4d6d27951",
   "metadata": {},
   "outputs": [],
   "source": [
    "#Si queremos condicionar para ver los prospectos (jugadores de presente y futuro con un gran nivel pero sin ser estrellas mundiales)\n",
    "#Condicionamos \"es prospecto\" para la edición de FIFA 21, 22 23 y 24\n",
    "\n",
    "is_prospect = (\n",
    "    (main_df['potential'] >= 80) & \n",
    "    (main_df['age'] <= 26) & \n",
    "    (main_df['value_eur'] <= 10000000) & \n",
    "    (main_df['fifa_version'].isin([21.0, 22.0, 23.0, 24.0]))\n",
    ")"
   ]
  },
  {
   "cell_type": "markdown",
   "id": "9532ab9a-3025-4e95-a42d-4a67dc1f93a9",
   "metadata": {},
   "source": [
    "Para contextualizar, dentro del videojuego existe la variable \"Overall\", un cuantitativo que de manera muy expresa, indica el rendimiento en general de un jugador (en una escala del 1 de overall hasta 99 de overall).\n",
    "\n",
    "Existe también otro cuantitativo llamado \"potential\", que de manera evidente, predice de por sí qué potencial o qué posible overall futuro tendrá un jugador. Usaremos como referencia a aquellos jugadores jóvenes (máximo 24 años) que tengan un valor potential de 83 o más, y que en el mercado de transferencia esté valorado por lo menos en 2 millones de euros."
   ]
  },
  {
   "cell_type": "code",
   "execution_count": 7,
   "id": "aae0c0db-1aee-44b4-90f5-97da207d2cc9",
   "metadata": {},
   "outputs": [],
   "source": [
    "#Creación de nuevo dataframe con sólo los prospectos que ya definimos\n",
    "\n",
    "prospects_df = main_df[is_prospect]"
   ]
  },
  {
   "cell_type": "code",
   "execution_count": 85,
   "id": "de28e814-c032-4e0a-8548-c4bb14ef7e6e",
   "metadata": {},
   "outputs": [
    {
     "data": {
      "text/html": [
       "<div>\n",
       "<style scoped>\n",
       "    .dataframe tbody tr th:only-of-type {\n",
       "        vertical-align: middle;\n",
       "    }\n",
       "\n",
       "    .dataframe tbody tr th {\n",
       "        vertical-align: top;\n",
       "    }\n",
       "\n",
       "    .dataframe thead th {\n",
       "        text-align: right;\n",
       "    }\n",
       "</style>\n",
       "<table border=\"1\" class=\"dataframe\">\n",
       "  <thead>\n",
       "    <tr style=\"text-align: right;\">\n",
       "      <th></th>\n",
       "      <th>player_id</th>\n",
       "      <th>player_url</th>\n",
       "      <th>fifa_version</th>\n",
       "      <th>fifa_update</th>\n",
       "      <th>update_as_of</th>\n",
       "      <th>short_name</th>\n",
       "      <th>long_name</th>\n",
       "      <th>player_positions</th>\n",
       "      <th>overall</th>\n",
       "      <th>potential</th>\n",
       "      <th>...</th>\n",
       "      <th>ldm</th>\n",
       "      <th>cdm</th>\n",
       "      <th>rdm</th>\n",
       "      <th>rwb</th>\n",
       "      <th>lb</th>\n",
       "      <th>lcb</th>\n",
       "      <th>cb</th>\n",
       "      <th>rcb</th>\n",
       "      <th>rb</th>\n",
       "      <th>gk</th>\n",
       "    </tr>\n",
       "  </thead>\n",
       "  <tbody>\n",
       "    <tr>\n",
       "      <th>1124</th>\n",
       "      <td>231227</td>\n",
       "      <td>/player/231227/niklas-dorsch/240002</td>\n",
       "      <td>24.0</td>\n",
       "      <td>2.0</td>\n",
       "      <td>2023-09-22</td>\n",
       "      <td>N. Dorsch</td>\n",
       "      <td>Niklas Bernd Dorsch</td>\n",
       "      <td>CDM, CM</td>\n",
       "      <td>76</td>\n",
       "      <td>81</td>\n",
       "      <td>...</td>\n",
       "      <td>75+2</td>\n",
       "      <td>75+2</td>\n",
       "      <td>75+2</td>\n",
       "      <td>73+2</td>\n",
       "      <td>72+2</td>\n",
       "      <td>72+2</td>\n",
       "      <td>72+2</td>\n",
       "      <td>72+2</td>\n",
       "      <td>72+2</td>\n",
       "      <td>16+2</td>\n",
       "    </tr>\n",
       "    <tr>\n",
       "      <th>1125</th>\n",
       "      <td>233885</td>\n",
       "      <td>/player/233885/eray-comert/240002</td>\n",
       "      <td>24.0</td>\n",
       "      <td>2.0</td>\n",
       "      <td>2023-09-22</td>\n",
       "      <td>E. Cömert</td>\n",
       "      <td>Eray Ervin Cömert</td>\n",
       "      <td>CB</td>\n",
       "      <td>76</td>\n",
       "      <td>81</td>\n",
       "      <td>...</td>\n",
       "      <td>74+2</td>\n",
       "      <td>74+2</td>\n",
       "      <td>74+2</td>\n",
       "      <td>70+2</td>\n",
       "      <td>72+2</td>\n",
       "      <td>76+2</td>\n",
       "      <td>76+2</td>\n",
       "      <td>76+2</td>\n",
       "      <td>72+2</td>\n",
       "      <td>14+2</td>\n",
       "    </tr>\n",
       "    <tr>\n",
       "      <th>1128</th>\n",
       "      <td>240453</td>\n",
       "      <td>/player/240453/sikou-niakate/240002</td>\n",
       "      <td>24.0</td>\n",
       "      <td>2.0</td>\n",
       "      <td>2023-09-22</td>\n",
       "      <td>S. Niakaté</td>\n",
       "      <td>Sikou Niakaté</td>\n",
       "      <td>CB, LB</td>\n",
       "      <td>76</td>\n",
       "      <td>81</td>\n",
       "      <td>...</td>\n",
       "      <td>70+2</td>\n",
       "      <td>70+2</td>\n",
       "      <td>70+2</td>\n",
       "      <td>70+2</td>\n",
       "      <td>72+2</td>\n",
       "      <td>76+2</td>\n",
       "      <td>76+2</td>\n",
       "      <td>76+2</td>\n",
       "      <td>72+2</td>\n",
       "      <td>17+2</td>\n",
       "    </tr>\n",
       "    <tr>\n",
       "      <th>1131</th>\n",
       "      <td>241585</td>\n",
       "      <td>/player/241585/igor-julio-dos-santos-de-paulo/...</td>\n",
       "      <td>24.0</td>\n",
       "      <td>2.0</td>\n",
       "      <td>2023-09-22</td>\n",
       "      <td>Igor</td>\n",
       "      <td>Igor Júlio dos Santos de Paulo</td>\n",
       "      <td>CB</td>\n",
       "      <td>76</td>\n",
       "      <td>81</td>\n",
       "      <td>...</td>\n",
       "      <td>71+2</td>\n",
       "      <td>71+2</td>\n",
       "      <td>71+2</td>\n",
       "      <td>66+2</td>\n",
       "      <td>69+2</td>\n",
       "      <td>76+2</td>\n",
       "      <td>76+2</td>\n",
       "      <td>76+2</td>\n",
       "      <td>69+2</td>\n",
       "      <td>17+2</td>\n",
       "    </tr>\n",
       "    <tr>\n",
       "      <th>1132</th>\n",
       "      <td>242663</td>\n",
       "      <td>/player/242663/sebastiaan-bornauw/240002</td>\n",
       "      <td>24.0</td>\n",
       "      <td>2.0</td>\n",
       "      <td>2023-09-22</td>\n",
       "      <td>S. Bornauw</td>\n",
       "      <td>Sebastiaan Bornauw</td>\n",
       "      <td>CB</td>\n",
       "      <td>76</td>\n",
       "      <td>81</td>\n",
       "      <td>...</td>\n",
       "      <td>70+2</td>\n",
       "      <td>70+2</td>\n",
       "      <td>70+2</td>\n",
       "      <td>69+2</td>\n",
       "      <td>71+2</td>\n",
       "      <td>76+2</td>\n",
       "      <td>76+2</td>\n",
       "      <td>76+2</td>\n",
       "      <td>71+2</td>\n",
       "      <td>16+2</td>\n",
       "    </tr>\n",
       "  </tbody>\n",
       "</table>\n",
       "<p>5 rows × 109 columns</p>\n",
       "</div>"
      ],
      "text/plain": [
       "      player_id                                         player_url  \\\n",
       "1124     231227                /player/231227/niklas-dorsch/240002   \n",
       "1125     233885                  /player/233885/eray-comert/240002   \n",
       "1128     240453                /player/240453/sikou-niakate/240002   \n",
       "1131     241585  /player/241585/igor-julio-dos-santos-de-paulo/...   \n",
       "1132     242663           /player/242663/sebastiaan-bornauw/240002   \n",
       "\n",
       "      fifa_version  fifa_update update_as_of  short_name  \\\n",
       "1124          24.0          2.0   2023-09-22   N. Dorsch   \n",
       "1125          24.0          2.0   2023-09-22   E. Cömert   \n",
       "1128          24.0          2.0   2023-09-22  S. Niakaté   \n",
       "1131          24.0          2.0   2023-09-22        Igor   \n",
       "1132          24.0          2.0   2023-09-22  S. Bornauw   \n",
       "\n",
       "                           long_name player_positions  overall  potential  \\\n",
       "1124             Niklas Bernd Dorsch          CDM, CM       76         81   \n",
       "1125               Eray Ervin Cömert               CB       76         81   \n",
       "1128                   Sikou Niakaté           CB, LB       76         81   \n",
       "1131  Igor Júlio dos Santos de Paulo               CB       76         81   \n",
       "1132              Sebastiaan Bornauw               CB       76         81   \n",
       "\n",
       "      ...   ldm   cdm   rdm   rwb    lb   lcb    cb   rcb    rb    gk  \n",
       "1124  ...  75+2  75+2  75+2  73+2  72+2  72+2  72+2  72+2  72+2  16+2  \n",
       "1125  ...  74+2  74+2  74+2  70+2  72+2  76+2  76+2  76+2  72+2  14+2  \n",
       "1128  ...  70+2  70+2  70+2  70+2  72+2  76+2  76+2  76+2  72+2  17+2  \n",
       "1131  ...  71+2  71+2  71+2  66+2  69+2  76+2  76+2  76+2  69+2  17+2  \n",
       "1132  ...  70+2  70+2  70+2  69+2  71+2  76+2  76+2  76+2  71+2  16+2  \n",
       "\n",
       "[5 rows x 109 columns]"
      ]
     },
     "execution_count": 85,
     "metadata": {},
     "output_type": "execute_result"
    }
   ],
   "source": [
    "prospects_df.head()"
   ]
  },
  {
   "cell_type": "code",
   "execution_count": 86,
   "id": "4b726cfa-52e2-4f06-9812-1f5591c43bd1",
   "metadata": {
    "scrolled": true
   },
   "outputs": [
    {
     "data": {
      "text/html": [
       "<div>\n",
       "<style scoped>\n",
       "    .dataframe tbody tr th:only-of-type {\n",
       "        vertical-align: middle;\n",
       "    }\n",
       "\n",
       "    .dataframe tbody tr th {\n",
       "        vertical-align: top;\n",
       "    }\n",
       "\n",
       "    .dataframe thead th {\n",
       "        text-align: right;\n",
       "    }\n",
       "</style>\n",
       "<table border=\"1\" class=\"dataframe\">\n",
       "  <thead>\n",
       "    <tr style=\"text-align: right;\">\n",
       "      <th></th>\n",
       "      <th>player_id</th>\n",
       "      <th>fifa_version</th>\n",
       "      <th>fifa_update</th>\n",
       "      <th>overall</th>\n",
       "      <th>potential</th>\n",
       "      <th>value_eur</th>\n",
       "      <th>wage_eur</th>\n",
       "      <th>age</th>\n",
       "      <th>height_cm</th>\n",
       "      <th>weight_kg</th>\n",
       "      <th>...</th>\n",
       "      <th>mentality_composure</th>\n",
       "      <th>defending_marking_awareness</th>\n",
       "      <th>defending_standing_tackle</th>\n",
       "      <th>defending_sliding_tackle</th>\n",
       "      <th>goalkeeping_diving</th>\n",
       "      <th>goalkeeping_handling</th>\n",
       "      <th>goalkeeping_kicking</th>\n",
       "      <th>goalkeeping_positioning</th>\n",
       "      <th>goalkeeping_reflexes</th>\n",
       "      <th>goalkeeping_speed</th>\n",
       "    </tr>\n",
       "  </thead>\n",
       "  <tbody>\n",
       "    <tr>\n",
       "      <th>count</th>\n",
       "      <td>3346.000000</td>\n",
       "      <td>3346.000000</td>\n",
       "      <td>3346.0</td>\n",
       "      <td>3346.000000</td>\n",
       "      <td>3346.000000</td>\n",
       "      <td>3.346000e+03</td>\n",
       "      <td>3346.000000</td>\n",
       "      <td>3346.000000</td>\n",
       "      <td>3346.000000</td>\n",
       "      <td>3346.000000</td>\n",
       "      <td>...</td>\n",
       "      <td>3346.000000</td>\n",
       "      <td>3346.000000</td>\n",
       "      <td>3346.000000</td>\n",
       "      <td>3346.000000</td>\n",
       "      <td>3346.000000</td>\n",
       "      <td>3346.000000</td>\n",
       "      <td>3346.000000</td>\n",
       "      <td>3346.000000</td>\n",
       "      <td>3346.000000</td>\n",
       "      <td>190.000000</td>\n",
       "    </tr>\n",
       "    <tr>\n",
       "      <th>mean</th>\n",
       "      <td>251450.887328</td>\n",
       "      <td>22.514644</td>\n",
       "      <td>2.0</td>\n",
       "      <td>69.071429</td>\n",
       "      <td>81.533772</td>\n",
       "      <td>4.141303e+06</td>\n",
       "      <td>11864.704124</td>\n",
       "      <td>20.402570</td>\n",
       "      <td>180.872086</td>\n",
       "      <td>73.395099</td>\n",
       "      <td>...</td>\n",
       "      <td>62.331142</td>\n",
       "      <td>48.113867</td>\n",
       "      <td>50.488942</td>\n",
       "      <td>48.023909</td>\n",
       "      <td>13.446204</td>\n",
       "      <td>13.268679</td>\n",
       "      <td>13.382247</td>\n",
       "      <td>13.297071</td>\n",
       "      <td>13.560968</td>\n",
       "      <td>36.705263</td>\n",
       "    </tr>\n",
       "    <tr>\n",
       "      <th>std</th>\n",
       "      <td>12926.035494</td>\n",
       "      <td>1.125301</td>\n",
       "      <td>0.0</td>\n",
       "      <td>4.415692</td>\n",
       "      <td>1.658667</td>\n",
       "      <td>2.591668e+06</td>\n",
       "      <td>12313.723451</td>\n",
       "      <td>2.084374</td>\n",
       "      <td>6.920027</td>\n",
       "      <td>6.839822</td>\n",
       "      <td>...</td>\n",
       "      <td>9.558116</td>\n",
       "      <td>20.245604</td>\n",
       "      <td>21.264117</td>\n",
       "      <td>20.730718</td>\n",
       "      <td>14.156596</td>\n",
       "      <td>13.609737</td>\n",
       "      <td>13.510668</td>\n",
       "      <td>13.744440</td>\n",
       "      <td>14.555230</td>\n",
       "      <td>10.304747</td>\n",
       "    </tr>\n",
       "    <tr>\n",
       "      <th>min</th>\n",
       "      <td>193794.000000</td>\n",
       "      <td>21.000000</td>\n",
       "      <td>2.0</td>\n",
       "      <td>54.000000</td>\n",
       "      <td>80.000000</td>\n",
       "      <td>4.000000e+05</td>\n",
       "      <td>500.000000</td>\n",
       "      <td>16.000000</td>\n",
       "      <td>161.000000</td>\n",
       "      <td>53.000000</td>\n",
       "      <td>...</td>\n",
       "      <td>21.000000</td>\n",
       "      <td>5.000000</td>\n",
       "      <td>7.000000</td>\n",
       "      <td>7.000000</td>\n",
       "      <td>1.000000</td>\n",
       "      <td>1.000000</td>\n",
       "      <td>1.000000</td>\n",
       "      <td>1.000000</td>\n",
       "      <td>1.000000</td>\n",
       "      <td>15.000000</td>\n",
       "    </tr>\n",
       "    <tr>\n",
       "      <th>25%</th>\n",
       "      <td>242453.000000</td>\n",
       "      <td>22.000000</td>\n",
       "      <td>2.0</td>\n",
       "      <td>66.000000</td>\n",
       "      <td>80.000000</td>\n",
       "      <td>2.000000e+06</td>\n",
       "      <td>3000.000000</td>\n",
       "      <td>19.000000</td>\n",
       "      <td>175.000000</td>\n",
       "      <td>69.000000</td>\n",
       "      <td>...</td>\n",
       "      <td>58.000000</td>\n",
       "      <td>30.000000</td>\n",
       "      <td>31.000000</td>\n",
       "      <td>28.000000</td>\n",
       "      <td>8.000000</td>\n",
       "      <td>8.000000</td>\n",
       "      <td>8.000000</td>\n",
       "      <td>8.000000</td>\n",
       "      <td>8.000000</td>\n",
       "      <td>29.000000</td>\n",
       "    </tr>\n",
       "    <tr>\n",
       "      <th>50%</th>\n",
       "      <td>252592.000000</td>\n",
       "      <td>22.000000</td>\n",
       "      <td>2.0</td>\n",
       "      <td>70.000000</td>\n",
       "      <td>81.000000</td>\n",
       "      <td>3.500000e+06</td>\n",
       "      <td>8000.000000</td>\n",
       "      <td>20.000000</td>\n",
       "      <td>181.000000</td>\n",
       "      <td>73.000000</td>\n",
       "      <td>...</td>\n",
       "      <td>64.000000</td>\n",
       "      <td>53.000000</td>\n",
       "      <td>58.000000</td>\n",
       "      <td>55.000000</td>\n",
       "      <td>10.000000</td>\n",
       "      <td>10.000000</td>\n",
       "      <td>10.000000</td>\n",
       "      <td>10.000000</td>\n",
       "      <td>10.000000</td>\n",
       "      <td>36.000000</td>\n",
       "    </tr>\n",
       "    <tr>\n",
       "      <th>75%</th>\n",
       "      <td>260652.500000</td>\n",
       "      <td>24.000000</td>\n",
       "      <td>2.0</td>\n",
       "      <td>73.000000</td>\n",
       "      <td>82.000000</td>\n",
       "      <td>6.000000e+06</td>\n",
       "      <td>17000.000000</td>\n",
       "      <td>22.000000</td>\n",
       "      <td>186.000000</td>\n",
       "      <td>78.000000</td>\n",
       "      <td>...</td>\n",
       "      <td>69.000000</td>\n",
       "      <td>66.000000</td>\n",
       "      <td>70.000000</td>\n",
       "      <td>67.000000</td>\n",
       "      <td>13.000000</td>\n",
       "      <td>13.000000</td>\n",
       "      <td>13.000000</td>\n",
       "      <td>13.000000</td>\n",
       "      <td>13.000000</td>\n",
       "      <td>45.000000</td>\n",
       "    </tr>\n",
       "    <tr>\n",
       "      <th>max</th>\n",
       "      <td>278077.000000</td>\n",
       "      <td>24.000000</td>\n",
       "      <td>2.0</td>\n",
       "      <td>76.000000</td>\n",
       "      <td>89.000000</td>\n",
       "      <td>1.000000e+07</td>\n",
       "      <td>84000.000000</td>\n",
       "      <td>26.000000</td>\n",
       "      <td>206.000000</td>\n",
       "      <td>100.000000</td>\n",
       "      <td>...</td>\n",
       "      <td>83.000000</td>\n",
       "      <td>83.000000</td>\n",
       "      <td>82.000000</td>\n",
       "      <td>80.000000</td>\n",
       "      <td>80.000000</td>\n",
       "      <td>78.000000</td>\n",
       "      <td>82.000000</td>\n",
       "      <td>80.000000</td>\n",
       "      <td>85.000000</td>\n",
       "      <td>60.000000</td>\n",
       "    </tr>\n",
       "  </tbody>\n",
       "</table>\n",
       "<p>8 rows × 63 columns</p>\n",
       "</div>"
      ],
      "text/plain": [
       "           player_id  fifa_version  fifa_update      overall    potential  \\\n",
       "count    3346.000000   3346.000000       3346.0  3346.000000  3346.000000   \n",
       "mean   251450.887328     22.514644          2.0    69.071429    81.533772   \n",
       "std     12926.035494      1.125301          0.0     4.415692     1.658667   \n",
       "min    193794.000000     21.000000          2.0    54.000000    80.000000   \n",
       "25%    242453.000000     22.000000          2.0    66.000000    80.000000   \n",
       "50%    252592.000000     22.000000          2.0    70.000000    81.000000   \n",
       "75%    260652.500000     24.000000          2.0    73.000000    82.000000   \n",
       "max    278077.000000     24.000000          2.0    76.000000    89.000000   \n",
       "\n",
       "          value_eur      wage_eur          age    height_cm    weight_kg  ...  \\\n",
       "count  3.346000e+03   3346.000000  3346.000000  3346.000000  3346.000000  ...   \n",
       "mean   4.141303e+06  11864.704124    20.402570   180.872086    73.395099  ...   \n",
       "std    2.591668e+06  12313.723451     2.084374     6.920027     6.839822  ...   \n",
       "min    4.000000e+05    500.000000    16.000000   161.000000    53.000000  ...   \n",
       "25%    2.000000e+06   3000.000000    19.000000   175.000000    69.000000  ...   \n",
       "50%    3.500000e+06   8000.000000    20.000000   181.000000    73.000000  ...   \n",
       "75%    6.000000e+06  17000.000000    22.000000   186.000000    78.000000  ...   \n",
       "max    1.000000e+07  84000.000000    26.000000   206.000000   100.000000  ...   \n",
       "\n",
       "       mentality_composure  defending_marking_awareness  \\\n",
       "count          3346.000000                  3346.000000   \n",
       "mean             62.331142                    48.113867   \n",
       "std               9.558116                    20.245604   \n",
       "min              21.000000                     5.000000   \n",
       "25%              58.000000                    30.000000   \n",
       "50%              64.000000                    53.000000   \n",
       "75%              69.000000                    66.000000   \n",
       "max              83.000000                    83.000000   \n",
       "\n",
       "       defending_standing_tackle  defending_sliding_tackle  \\\n",
       "count                3346.000000               3346.000000   \n",
       "mean                   50.488942                 48.023909   \n",
       "std                    21.264117                 20.730718   \n",
       "min                     7.000000                  7.000000   \n",
       "25%                    31.000000                 28.000000   \n",
       "50%                    58.000000                 55.000000   \n",
       "75%                    70.000000                 67.000000   \n",
       "max                    82.000000                 80.000000   \n",
       "\n",
       "       goalkeeping_diving  goalkeeping_handling  goalkeeping_kicking  \\\n",
       "count         3346.000000           3346.000000          3346.000000   \n",
       "mean            13.446204             13.268679            13.382247   \n",
       "std             14.156596             13.609737            13.510668   \n",
       "min              1.000000              1.000000             1.000000   \n",
       "25%              8.000000              8.000000             8.000000   \n",
       "50%             10.000000             10.000000            10.000000   \n",
       "75%             13.000000             13.000000            13.000000   \n",
       "max             80.000000             78.000000            82.000000   \n",
       "\n",
       "       goalkeeping_positioning  goalkeeping_reflexes  goalkeeping_speed  \n",
       "count              3346.000000           3346.000000         190.000000  \n",
       "mean                 13.297071             13.560968          36.705263  \n",
       "std                  13.744440             14.555230          10.304747  \n",
       "min                   1.000000              1.000000          15.000000  \n",
       "25%                   8.000000              8.000000          29.000000  \n",
       "50%                  10.000000             10.000000          36.000000  \n",
       "75%                  13.000000             13.000000          45.000000  \n",
       "max                  80.000000             85.000000          60.000000  \n",
       "\n",
       "[8 rows x 63 columns]"
      ]
     },
     "execution_count": 86,
     "metadata": {},
     "output_type": "execute_result"
    }
   ],
   "source": [
    "#Estadísticas básicas del dataset\n",
    "prospects_df.describe()"
   ]
  },
  {
   "cell_type": "markdown",
   "id": "a50c5349-7d64-49df-8365-fa75ba1a3730",
   "metadata": {},
   "source": [
    "Tablas de frecuencia para valores relevantes\n",
    "\n",
    "En este caso la cantidad de prospectos por edición"
   ]
  },
  {
   "cell_type": "code",
   "execution_count": 11,
   "id": "79b603ca-816a-47d7-9f24-cd6396deb523",
   "metadata": {},
   "outputs": [
    {
     "data": {
      "text/html": [
       "<div>\n",
       "<style scoped>\n",
       "    .dataframe tbody tr th:only-of-type {\n",
       "        vertical-align: middle;\n",
       "    }\n",
       "\n",
       "    .dataframe tbody tr th {\n",
       "        vertical-align: top;\n",
       "    }\n",
       "\n",
       "    .dataframe thead th {\n",
       "        text-align: right;\n",
       "    }\n",
       "</style>\n",
       "<table border=\"1\" class=\"dataframe\">\n",
       "  <thead>\n",
       "    <tr style=\"text-align: right;\">\n",
       "      <th></th>\n",
       "      <th>fifa_version</th>\n",
       "      <th>count</th>\n",
       "      <th>percentage</th>\n",
       "    </tr>\n",
       "  </thead>\n",
       "  <tbody>\n",
       "    <tr>\n",
       "      <th>0</th>\n",
       "      <td>24.0</td>\n",
       "      <td>885</td>\n",
       "      <td>26.449492</td>\n",
       "    </tr>\n",
       "    <tr>\n",
       "      <th>1</th>\n",
       "      <td>22.0</td>\n",
       "      <td>879</td>\n",
       "      <td>26.270173</td>\n",
       "    </tr>\n",
       "    <tr>\n",
       "      <th>2</th>\n",
       "      <td>21.0</td>\n",
       "      <td>815</td>\n",
       "      <td>24.357442</td>\n",
       "    </tr>\n",
       "    <tr>\n",
       "      <th>3</th>\n",
       "      <td>23.0</td>\n",
       "      <td>767</td>\n",
       "      <td>22.922893</td>\n",
       "    </tr>\n",
       "  </tbody>\n",
       "</table>\n",
       "</div>"
      ],
      "text/plain": [
       "   fifa_version  count  percentage\n",
       "0          24.0    885   26.449492\n",
       "1          22.0    879   26.270173\n",
       "2          21.0    815   24.357442\n",
       "3          23.0    767   22.922893"
      ]
     },
     "execution_count": 11,
     "metadata": {},
     "output_type": "execute_result"
    }
   ],
   "source": [
    "#Creación de una nueva tabla, en la que creamos nuevos índices para los registros\n",
    "edition_freq_table = prospects_df['fifa_version'].value_counts().reset_index()\n",
    "\n",
    "#Columnas de la nueva tabla y columna nueva \"Percentage\"\n",
    "edition_freq_table.columns = ['fifa_version', 'count']\n",
    "edition_freq_table['percentage'] = (edition_freq_table['count'] / len(prospects_df)) * 100\n",
    "\n",
    "edition_freq_table.head()"
   ]
  },
  {
   "cell_type": "markdown",
   "id": "80b15158-cca3-4b1e-b341-9fa05d35f38c",
   "metadata": {},
   "source": [
    "Resúmenes Gráficos respectivo a la distribución de prospectos por edición:\n",
    "\n",
    "Gráfico de Barras"
   ]
  },
  {
   "cell_type": "code",
   "execution_count": 24,
   "id": "727defc7-e76d-49b1-855a-4e6fb7899903",
   "metadata": {},
   "outputs": [
    {
     "data": {
      "text/plain": [
       "Text(0, 0.5, 'Frecuencia')"
      ]
     },
     "execution_count": 24,
     "metadata": {},
     "output_type": "execute_result"
    },
    {
     "data": {
      "image/png": "[encoded data removed]",
      "text/plain": [
       "<Figure size 640x480 with 1 Axes>"
      ]
     },
     "metadata": {},
     "output_type": "display_data"
    }
   ],
   "source": [
    "#Creación de gráfico de barras mostrando dicha distribución\n",
    "plt.bar(edition_freq_table['fifa_version'], edition_freq_table['count'], width = 0.5)\n",
    "\n",
    "#Valores de la tabla de frecuencia para el eje x\n",
    "plt.xticks(edition_freq_table['fifa_version'])\n",
    "\n",
    "#Mostrando porcentajes por cada fila\n",
    "for record, row in edition_freq_table.iterrows():\n",
    "    plt.text(row['fifa_version'], row['count'], f\"{row['percentage']:.2f}%\", ha='center', va='bottom')\n",
    "\n",
    "plt.title('Distribución de Prospectos por edición de FIFA')\n",
    "plt.xlabel('Edición')\n",
    "plt.ylabel('Frecuencia')"
   ]
  },
  {
   "cell_type": "markdown",
   "id": "56f98456-a84d-4b81-bd43-d2aaec6c38c1",
   "metadata": {},
   "source": [
    "Además de saber en qué edición aparecieron un mayor número de prospectos, sería muy interesante saber de dónde vienen estos jugadores, en qué liga es en la que están repuntando y de qué nivel es.\n",
    "\n",
    "Hay jugadores que actualmente están en ligas de\n",
    "1er nivel o\n",
    "2do nivel o\n",
    "3er nivel o\n",
    "4to nivel"
   ]
  },
  {
   "cell_type": "code",
   "execution_count": 52,
   "id": "ff52425b-8b42-4eba-a954-593a05624525",
   "metadata": {},
   "outputs": [
    {
     "data": {
      "text/html": [
       "<div>\n",
       "<style scoped>\n",
       "    .dataframe tbody tr th:only-of-type {\n",
       "        vertical-align: middle;\n",
       "    }\n",
       "\n",
       "    .dataframe tbody tr th {\n",
       "        vertical-align: top;\n",
       "    }\n",
       "\n",
       "    .dataframe thead th {\n",
       "        text-align: right;\n",
       "    }\n",
       "</style>\n",
       "<table border=\"1\" class=\"dataframe\">\n",
       "  <thead>\n",
       "    <tr style=\"text-align: right;\">\n",
       "      <th></th>\n",
       "      <th>league_level</th>\n",
       "      <th>count</th>\n",
       "      <th>percentage</th>\n",
       "    </tr>\n",
       "  </thead>\n",
       "  <tbody>\n",
       "    <tr>\n",
       "      <th>0</th>\n",
       "      <td>1.0</td>\n",
       "      <td>2848</td>\n",
       "      <td>85.116557</td>\n",
       "    </tr>\n",
       "    <tr>\n",
       "      <th>1</th>\n",
       "      <td>2.0</td>\n",
       "      <td>451</td>\n",
       "      <td>13.478781</td>\n",
       "    </tr>\n",
       "    <tr>\n",
       "      <th>2</th>\n",
       "      <td>3.0</td>\n",
       "      <td>45</td>\n",
       "      <td>1.344889</td>\n",
       "    </tr>\n",
       "    <tr>\n",
       "      <th>3</th>\n",
       "      <td>4.0</td>\n",
       "      <td>2</td>\n",
       "      <td>0.059773</td>\n",
       "    </tr>\n",
       "  </tbody>\n",
       "</table>\n",
       "</div>"
      ],
      "text/plain": [
       "   league_level  count  percentage\n",
       "0           1.0   2848   85.116557\n",
       "1           2.0    451   13.478781\n",
       "2           3.0     45    1.344889\n",
       "3           4.0      2    0.059773"
      ]
     },
     "execution_count": 52,
     "metadata": {},
     "output_type": "execute_result"
    }
   ],
   "source": [
    "#Creación de una nueva tabla, en la que creamos nuevos índices para los registros\n",
    "leagueslvl_freq_table = prospects_df['league_level'].value_counts().reset_index()\n",
    "\n",
    "#Columnas de la nueva tabla y columna nueva \"Percentage\"\n",
    "leagueslvl_freq_table.columns = ['league_level', 'count']\n",
    "leagueslvl_freq_table['percentage'] = (leagueslvl_freq_table['count'] / len(prospects_df)) * 100\n",
    "\n",
    "leagueslvl_freq_table.head()"
   ]
  },
  {
   "cell_type": "markdown",
   "id": "809e5f39-78fd-4bc2-947d-fb66ba2fb771",
   "metadata": {},
   "source": [
    "Por otra parte es interesante conocer, que mundialmente se es sabido que las mejores ligas del mundo, mejor conocidas como \"las 5 grandes ligas\" están en europa y que son la cuna de muchos futbolistas exitosos actualmente.\n",
    "\n",
    "Las 5 grandes ligas son:\n",
    "- Premier League\n",
    "- LaLiga\n",
    "- Bundesliga\n",
    "- Ligue 1\n",
    "- Serie A\n",
    "\n",
    "Nuestra tabla de frecuencia de cuáles son las ligas con una mayor repetición en registros coincide exactamente con esta descripción anteriormente hecha."
   ]
  },
  {
   "cell_type": "code",
   "execution_count": 55,
   "id": "59f042e1-d534-4a3e-a858-7e121c3376a2",
   "metadata": {},
   "outputs": [
    {
     "data": {
      "text/html": [
       "<div>\n",
       "<style scoped>\n",
       "    .dataframe tbody tr th:only-of-type {\n",
       "        vertical-align: middle;\n",
       "    }\n",
       "\n",
       "    .dataframe tbody tr th {\n",
       "        vertical-align: top;\n",
       "    }\n",
       "\n",
       "    .dataframe thead th {\n",
       "        text-align: right;\n",
       "    }\n",
       "</style>\n",
       "<table border=\"1\" class=\"dataframe\">\n",
       "  <thead>\n",
       "    <tr style=\"text-align: right;\">\n",
       "      <th></th>\n",
       "      <th>league_name</th>\n",
       "      <th>count</th>\n",
       "      <th>percentage</th>\n",
       "    </tr>\n",
       "  </thead>\n",
       "  <tbody>\n",
       "    <tr>\n",
       "      <th>0</th>\n",
       "      <td>Premier League</td>\n",
       "      <td>402</td>\n",
       "      <td>12.014345</td>\n",
       "    </tr>\n",
       "    <tr>\n",
       "      <th>1</th>\n",
       "      <td>Bundesliga</td>\n",
       "      <td>311</td>\n",
       "      <td>9.294680</td>\n",
       "    </tr>\n",
       "    <tr>\n",
       "      <th>2</th>\n",
       "      <td>La Liga</td>\n",
       "      <td>309</td>\n",
       "      <td>9.234907</td>\n",
       "    </tr>\n",
       "    <tr>\n",
       "      <th>3</th>\n",
       "      <td>Ligue 1</td>\n",
       "      <td>255</td>\n",
       "      <td>7.621040</td>\n",
       "    </tr>\n",
       "    <tr>\n",
       "      <th>4</th>\n",
       "      <td>Serie A</td>\n",
       "      <td>250</td>\n",
       "      <td>7.471608</td>\n",
       "    </tr>\n",
       "  </tbody>\n",
       "</table>\n",
       "</div>"
      ],
      "text/plain": [
       "      league_name  count  percentage\n",
       "0  Premier League    402   12.014345\n",
       "1      Bundesliga    311    9.294680\n",
       "2         La Liga    309    9.234907\n",
       "3         Ligue 1    255    7.621040\n",
       "4         Serie A    250    7.471608"
      ]
     },
     "execution_count": 55,
     "metadata": {},
     "output_type": "execute_result"
    }
   ],
   "source": [
    "#Creación de una nueva tabla, en la que creamos nuevos índices para los registros\n",
    "leagues_freq_table = prospects_df['league_name'].value_counts().reset_index()\n",
    "\n",
    "#Columnas de la nueva tabla y columna nueva \"Percentage\"\n",
    "leagues_freq_table.columns = ['league_name', 'count']\n",
    "leagues_freq_table['percentage'] = (leagues_freq_table['count'] / len(prospects_df)) * 100\n",
    "\n",
    "leagues_freq_table.head()"
   ]
  },
  {
   "cell_type": "code",
   "execution_count": 71,
   "id": "dd594f18-4c02-4d4b-8e25-2685b4763489",
   "metadata": {},
   "outputs": [
    {
     "data": {
      "text/plain": [
       "Text(0, 0.5, 'Frecuencia')"
      ]
     },
     "execution_count": 71,
     "metadata": {},
     "output_type": "execute_result"
    },
    {
     "data": {
      "image/png": "[encoded data removed]",
      "text/plain": [
       "<Figure size 640x480 with 1 Axes>"
      ]
     },
     "metadata": {},
     "output_type": "display_data"
    }
   ],
   "source": [
    "#Nuevo histograma a partir de la distribución encontrada de \"league_level\"\n",
    "plt.hist(prospects_df['league_level'], bins=4, edgecolor='black')\n",
    "\n",
    "plt.title('Frecuencia de distribución de los niveles de ligas')\n",
    "plt.xlabel('Nivel de liga')\n",
    "plt.ylabel('Frecuencia')"
   ]
  },
  {
   "cell_type": "markdown",
   "id": "c95ce34a-4499-4820-bb2a-27a17042f934",
   "metadata": {},
   "source": [
    "Correlación entre variables\n",
    "\n",
    "El primer patrón identificado, es que a medida de que los jugadores prospectos crecen por la variable \"potential\", su valor en el mercado de transferencias crece, teniendo la frecuenia de valores para la tasa del mercado más apegada a aquellos jugadores con un valor de potencial decreciente.\n",
    "\n",
    "El crecimiento del futbolista es directamente proporcional a su valor en el mercado de transferencias."
   ]
  },
  {
   "cell_type": "code",
   "execution_count": 92,
   "id": "39eac2ef-2a04-43cf-a35f-e12e8717523a",
   "metadata": {},
   "outputs": [
    {
     "data": {
      "text/plain": [
       "<Axes: xlabel='value_eur', ylabel='potential'>"
      ]
     },
     "execution_count": 92,
     "metadata": {},
     "output_type": "execute_result"
    },
    {
     "data": {
      "image/png": "[encoded data removed]",
      "text/plain": [
       "<Figure size 640x480 with 1 Axes>"
      ]
     },
     "metadata": {},
     "output_type": "display_data"
    }
   ],
   "source": [
    "plt.gca().yaxis.set_major_formatter(ScalarFormatter(useOffset=False))\n",
    "plt.ticklabel_format(style='plain', axis='x')\n",
    "\n",
    "sns.regplot(x = 'value_eur', y = 'potential', data = prospects_df)"
   ]
  },
  {
   "cell_type": "markdown",
   "id": "d9713ccc-af25-49de-a00d-e321fe575528",
   "metadata": {},
   "source": [
    "Existen correlaciones entre variables?\n",
    "\n",
    "A parte de los factores ya estudiados y expuestos gráficamente (la liga, el nivel de liga, la relación entre el valor del jugador y el potencial que tiene), considero pertinente evaluar atributos físicos, qué tanta relación existe entre el potencial y rasgos como el físico, aceleración o velocidad. Por otra parte veremos si existen patrones de comportamiento entre los valores de mercado y potencial"
   ]
  },
  {
   "cell_type": "code",
   "execution_count": 94,
   "id": "8186399f-3995-4856-88bd-c6265e5bde5c",
   "metadata": {},
   "outputs": [
    {
     "data": {
      "text/plain": [
       "<Axes: xlabel='physic', ylabel='potential'>"
      ]
     },
     "execution_count": 94,
     "metadata": {},
     "output_type": "execute_result"
    },
    {
     "data": {
      "image/png": "[encoded data removed]",
      "text/plain": [
       "<Figure size 640x480 with 1 Axes>"
      ]
     },
     "metadata": {},
     "output_type": "display_data"
    }
   ],
   "source": [
    "sns.regplot(x = 'physic', y = 'potential', data = prospects_df)"
   ]
  },
  {
   "cell_type": "markdown",
   "id": "bdc17ecc-334f-4aab-91ec-7fdff8c6a2ad",
   "metadata": {},
   "source": [
    "Según las mediciones, no hay tal correlación entre el valor de mercado y el potencial que marca el juego acerca del jugador"
   ]
  },
  {
   "cell_type": "markdown",
   "id": "7bdc5384-7b7a-40c9-855e-542c1442083d",
   "metadata": {},
   "source": [
    "De acuerdo a las funcionalidades de correlación entre variables, encontramos que no existe tal correlación entre los atributos físicos directamente enlazados con el potencial que marca el registro del jugador, por lo que podemos decir que no existe manera de definir una relación de comportamiento en el que crezca una variable o decrezca de manera síncrona."
   ]
  },
  {
   "cell_type": "code",
   "execution_count": 107,
   "id": "f9b0096f-0dd0-4a33-9ec6-cdbd9894eff9",
   "metadata": {},
   "outputs": [
    {
     "data": {
      "text/plain": [
       "Text(0.5, 1.0, 'Mapa de calor de potencial relativo a la velocidad de sprint')"
      ]
     },
     "execution_count": 107,
     "metadata": {},
     "output_type": "execute_result"
    },
    {
     "data": {
      "image/png": "[encoded data removed]",
      "text/plain": [
       "<Figure size 800x600 with 2 Axes>"
      ]
     },
     "metadata": {},
     "output_type": "display_data"
    }
   ],
   "source": [
    "plt.figure(figsize=(8, 6))\n",
    "\n",
    "sns.heatmap(prospects_df[['movement_sprint_speed', 'potential']].corr(), annot=True, cmap='coolwarm', linewidths=0.5)\n",
    "plt.title('Mapa de calor de potencial relativo a la velocidad de sprint')"
   ]
  },
  {
   "cell_type": "code",
   "execution_count": 111,
   "id": "6db3032b-5252-4805-aeda-2f0669b658f8",
   "metadata": {},
   "outputs": [
    {
     "data": {
      "text/plain": [
       "Text(0.5, 1.0, 'Mapa de calor de potencial relativo a la aceleración de jugador')"
      ]
     },
     "execution_count": 111,
     "metadata": {},
     "output_type": "execute_result"
    },
    {
     "data": {
      "image/png": "[encoded data removed]",
      "text/plain": [
       "<Figure size 800x600 with 2 Axes>"
      ]
     },
     "metadata": {},
     "output_type": "display_data"
    }
   ],
   "source": [
    "plt.figure(figsize=(8, 6))\n",
    "\n",
    "sns.heatmap(prospects_df[['movement_acceleration', 'potential']].corr(), annot=True, cmap='coolwarm', linewidths=0.5)\n",
    "plt.title('Mapa de calor de potencial relativo a la aceleración de jugador')"
   ]
  },
  {
   "cell_type": "code",
   "execution_count": null,
   "id": "d8f5800a-2711-4e8e-aca2-e59b93a24dc5",
   "metadata": {},
   "outputs": [],
   "source": []
  }
 ],
 "metadata": {
  "kernelspec": {
   "display_name": "Python 3 (ipykernel)",
   "language": "python",
   "name": "python3"
  },
  "language_info": {
   "codemirror_mode": {
    "name": "ipython",
    "version": 3
   },
   "file_extension": ".py",
   "mimetype": "text/x-python",
   "name": "python",
   "nbconvert_exporter": "python",
   "pygments_lexer": "ipython3",
   "version": "3.12.3"
  }
 },
 "nbformat": 4,
 "nbformat_minor": 5
}
